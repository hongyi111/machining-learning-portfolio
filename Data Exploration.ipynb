{
  "nbformat": 4,
  "nbformat_minor": 0,
  "metadata": {
    "colab": {
      "name": "Untitled3.ipynb",
      "provenance": [],
      "authorship_tag": "ABX9TyOkpl/ca6bJ9zNm5cOVPDol",
      "include_colab_link": true
    },
    "kernelspec": {
      "name": "python3",
      "display_name": "Python 3"
    },
    "language_info": {
      "name": "python"
    }
  },
  "cells": [
    {
      "cell_type": "markdown",
      "metadata": {
        "id": "view-in-github",
        "colab_type": "text"
      },
      "source": [
        "<a href=\"https://colab.research.google.com/github/hongyi111/machining-learning-portfolio/blob/main/Data%20Exploration.ipynb\" target=\"_parent\"><img src=\"https://colab.research.google.com/assets/colab-badge.svg\" alt=\"Open In Colab\"/></a>"
      ]
    },
    {
      "cell_type": "code",
      "execution_count": null,
      "metadata": {
        "id": "LDXwOHoloFBC"
      },
      "outputs": [],
      "source": [
        "import pandas as pd\n",
        "import matplotlib.pyplot as plt\n",
        "import mpld3\n",
        "\n",
        "# Read in CSV File to Dataframe\n",
        "df1 = pd.read_csv('http://www.nickshelton.ca/Tablet_Production.csv')\n",
        "\n",
        "# Create Statistics Table\n",
        "stat_table = df1[['Dissolution', 'Screen Size']].groupby('Screen Size').describe()\n",
        "\n",
        "# Create Dataframes for each Screen Size\n",
        "SS3 = df1.query('`Screen Size`== 3')\n",
        "SS4 = df1.query('`Screen Size`== 4')\n",
        "SS5 = df1.query('`Screen Size`== 5')\n",
        "\n",
        "# Create Figure #1 - 3 Plots (API Lot No v. Dissolution) Overlayed by Screen Size\n",
        "plt.figure(1)\n",
        "plt.plot(SS3['API Lot No'], SS3['Dissolution'], color='green', marker='o', linestyle='dashed', linewidth=2,\n",
        "         markersize=5)\n",
        "plt.plot(SS4['API Lot No'], SS4['Dissolution'], color='blue', marker='o', linestyle='dashed', linewidth=2,\n",
        "         markersize=5)\n",
        "plt.plot(SS5['API Lot No'], SS5['Dissolution'], color='red', marker='o', linestyle='dashed', linewidth=2,\n",
        "         markersize=5)\n",
        "plt.xticks([])\n",
        "plt.show()\n",
        "\n",
        "# Create Figure #2 - 3 Box Plots ( Screen Size v. Dissolution)\n",
        "plt.figure(2)\n",
        "data = [SS3['Dissolution'], SS4['Dissolution'], SS5['Dissolution']]\n",
        "plt.boxplot(data)\n",
        "plt.xticks([1, 2, 3], ['3', '4', '5'])\n",
        "plt.show()\n",
        "\n",
        "# Create Figure (#3) - Interactive Subplots ( Dissolution v. Batch) & (Dissolution v. Screen Size)\n",
        "fig = plt.figure(3)\n",
        "\n",
        "# Create Scatterplot 1, Using subplots (1 row, 2 cols)\n",
        "plt.subplot(121)\n",
        "ax1 = plt.scatter(df1['Dissolution'], df1.index)\n",
        "plt.xlabel('Dissolution')\n",
        "plt.ylabel('API Lot No')\n",
        "plt.grid(True)\n",
        "\n",
        "# Create Scatter Plot 2, Using subplots (1 row, 2 cols)\n",
        "plt.subplot(122)\n",
        "ax2 = plt.scatter(df1['Dissolution'], df1['Screen Size'])\n",
        "plt.xlabel('Dissolution')\n",
        "plt.ylabel('Screen Size')\n",
        "plt.grid(True)\n",
        "fig.tight_layout()\n",
        "\n",
        "\n",
        "# Launch Interactive Visualization in Browser\n",
        "mpld3.plugins.connect(fig, mpld3.plugins.LinkedBrush(ax1))\n",
        "mpld3.plugins.connect(fig, mpld3.plugins.LinkedBrush(ax2))\n",
        "plt.close()\n",
        "mpld3.show(fig)"
      ]
    }
  ]
}